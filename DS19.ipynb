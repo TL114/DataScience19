{
 "cells": [
  {
   "cell_type": "markdown",
   "metadata": {},
   "source": [
    "First notebook file for the project"
   ]
  },
  {
   "cell_type": "code",
   "execution_count": 44,
   "metadata": {},
   "outputs": [
    {
     "name": "stdout",
     "output_type": "stream",
     "text": [
      "    Unnamed: 0          dt  AverageTemperature  AverageTemperatureUncertainty  \\\n",
      "0       161160  1743-11-01               0.727                          2.113   \n",
      "1       161161  1743-12-01                 NaN                            NaN   \n",
      "2       161162  1744-01-01                 NaN                            NaN   \n",
      "3       161163  1744-02-01                 NaN                            NaN   \n",
      "4       161164  1744-03-01                 NaN                            NaN   \n",
      "5       161165  1744-04-01               4.494                          3.786   \n",
      "6       161166  1744-05-01               9.038                          1.837   \n",
      "7       161167  1744-06-01              14.148                          1.661   \n",
      "8       161168  1744-07-01              16.971                          1.472   \n",
      "9       161169  1744-08-01                 NaN                            NaN   \n",
      "10      161170  1744-09-01              11.560                          1.527   \n",
      "11      161171  1744-10-01               3.626                          1.821   \n",
      "12      161172  1744-11-01               0.743                          1.527   \n",
      "13      161173  1744-12-01              -5.078                          1.838   \n",
      "14      161174  1745-01-01              -8.124                          1.868   \n",
      "15      161175  1745-02-01              -8.570                          1.632   \n",
      "16      161176  1745-03-01              -5.072                          1.437   \n",
      "17      161177  1745-04-01               1.397                          1.434   \n",
      "18      161178  1745-05-01                 NaN                            NaN   \n",
      "19      161179  1745-06-01                 NaN                            NaN   \n",
      "\n",
      "    Country  \n",
      "0   Estonia  \n",
      "1   Estonia  \n",
      "2   Estonia  \n",
      "3   Estonia  \n",
      "4   Estonia  \n",
      "5   Estonia  \n",
      "6   Estonia  \n",
      "7   Estonia  \n",
      "8   Estonia  \n",
      "9   Estonia  \n",
      "10  Estonia  \n",
      "11  Estonia  \n",
      "12  Estonia  \n",
      "13  Estonia  \n",
      "14  Estonia  \n",
      "15  Estonia  \n",
      "16  Estonia  \n",
      "17  Estonia  \n",
      "18  Estonia  \n",
      "19  Estonia  \n"
     ]
    }
   ],
   "source": [
    "import pandas as pd\n",
    "import numpy as np\n",
    "data_est=pd.read_csv(\"Estonia.csv\")\n",
    "int_data=pd.read_csv()\n",
    "data_est.interpolate().to_csv(\"Est_Interpolated.csv\")\n",
    "print(data_est.head(20))\n"
   ]
  }
 ],
 "metadata": {
  "kernelspec": {
   "display_name": "Python 3",
   "language": "python",
   "name": "python3"
  },
  "language_info": {
   "codemirror_mode": {
    "name": "ipython",
    "version": 3
   },
   "file_extension": ".py",
   "mimetype": "text/x-python",
   "name": "python",
   "nbconvert_exporter": "python",
   "pygments_lexer": "ipython3",
   "version": "3.7.3"
  }
 },
 "nbformat": 4,
 "nbformat_minor": 2
}
